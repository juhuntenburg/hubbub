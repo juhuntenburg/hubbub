{
 "cells": [
  {
   "cell_type": "code",
   "execution_count": 1,
   "metadata": {
    "collapsed": true
   },
   "outputs": [],
   "source": [
    "import numpy as np\n",
    "from random import randint"
   ]
  },
  {
   "cell_type": "markdown",
   "metadata": {},
   "source": [
    "initializing a data structure containing the different materials to draw from "
   ]
  },
  {
   "cell_type": "code",
   "execution_count": 2,
   "metadata": {
    "collapsed": true
   },
   "outputs": [],
   "source": [
    "bags = dict()"
   ]
  },
  {
   "cell_type": "code",
   "execution_count": 3,
   "metadata": {
    "collapsed": false
   },
   "outputs": [],
   "source": [
    "bags['yesno'] = 7*[True] + 13*[False]"
   ]
  },
  {
   "cell_type": "code",
   "execution_count": 4,
   "metadata": {
    "collapsed": false
   },
   "outputs": [
    {
     "name": "stdout",
     "output_type": "stream",
     "text": [
      "# all durations: 54\n",
      "# integer durations: 50\n",
      "total length of integer durations: 1272\n",
      "string durations: ['as long as you can', 'as long as you can', 'as long as you can', 'as long as you can']\n"
     ]
    }
   ],
   "source": [
    "bags['duration'] = [37, \"as long as you can\", 35, 28, 15, 31, 27, 44, 22, 2, 38, 24, 6, 3, 48, 18, 26, 46, \n",
    "                    36, 14, 30, 42, 8,33, 34, 45, 16, 29, 47, 21, 50, 10, \"as long as you can\", 7, 32, \n",
    "                    \"as long as you can\", 13, 23, 39, 41, 20, 25, 40, 11, 17, 1, 12, 5, 43, 19, 4, 6, \n",
    "                    \"as long as you can\", 49]\n",
    "# how to check for total length with instructions like \"as long as you can\"?\n",
    "# where are the numbers from? how could they be generated?\n",
    "\n",
    "# check that all durations are in there (should be 54)\n",
    "print \"# all durations: \"+str(len(bags['duration']))\n",
    "\n",
    "# check how many interger durations and what all integer durations add up to\n",
    "int_duration = [x for x in bags['duration'] if type(x)==int]\n",
    "print \"# integer durations: \"+str(len(int_duration))\n",
    "print \"total length of integer durations: \"+str(sum(int_duration))\n",
    "\n",
    "# print string durations\n",
    "str_duration = [y for y in bags['duration'] if type(y)==str]\n",
    "print \"string durations: \"+str(str_duration)"
   ]
  },
  {
   "cell_type": "code",
   "execution_count": 5,
   "metadata": {
    "collapsed": true
   },
   "outputs": [],
   "source": [
    "bags['hold_breath'] = ['in middle', 'after in', 'after out']\n",
    "# pick duration for hold\n",
    "# ,"
   ]
  },
  {
   "cell_type": "code",
   "execution_count": 6,
   "metadata": {
    "collapsed": false
   },
   "outputs": [],
   "source": [
    "bags['fingering'] = ['trill keys 1', 'trill keys 2', '+thumb', '+thumb', '+thumb', 'trill keys 1+2', \n",
    "                     1, 2, 3, 4, 5, 6, 7, 8]\n",
    "# what is trill keys 1 or 2 referring to?\n",
    "# len should be 14"
   ]
  },
  {
   "cell_type": "code",
   "execution_count": 7,
   "metadata": {
    "collapsed": false
   },
   "outputs": [],
   "source": [
    "covered = [{'a':[1]+7*[0], 'b':[0,1]+6*[0]}, \n",
    "           {'a':2*[1]+6*[0], 'b':4*[0]+2*[1]+2*[0]},\n",
    "           {'a':3*[1]+5*[0], 'b':2*[1]+2*[0]+1*[1]+3*[0]},\n",
    "           {'a':3*[1]+1*[0]+1*[1]+3*[0], 'b':1*[1]+3*[0]+3*[1]+1*[0]},\n",
    "           {'a':3*[1]+1*[0]+2*[1]+2*[0], 'b':1*[0]+2*[1]+1*[0]+3*[1]+1*[0]},\n",
    "           {'a':3*[1]+1*[0]+3*[1]+1*[0], 'b':1*[0]+2*[1]+1*[0]+4*[1]},\n",
    "           {'a':3*[1]+1*[0]+3*[1]+1*[0]},\n",
    "           {'a':8*[1]}\n",
    "          ]\n",
    "# each list implements the 8 holes to cover, left to right"
   ]
  },
  {
   "cell_type": "code",
   "execution_count": 8,
   "metadata": {
    "collapsed": false
   },
   "outputs": [
    {
     "name": "stdout",
     "output_type": "stream",
     "text": [
      "covered\n",
      "1a: [1, 0, 0, 0, 0, 0, 0, 0] True True\n",
      "1b: [0, 1, 0, 0, 0, 0, 0, 0] True True\n",
      "2a: [1, 1, 0, 0, 0, 0, 0, 0] True True\n",
      "2b: [0, 0, 0, 0, 1, 1, 0, 0] True True\n",
      "3a: [1, 1, 1, 0, 0, 0, 0, 0] True True\n",
      "3b: [1, 1, 0, 0, 1, 0, 0, 0] True True\n",
      "4a: [1, 1, 1, 0, 1, 0, 0, 0] True True\n",
      "4b: [1, 0, 0, 0, 1, 1, 1, 0] True True\n",
      "5a: [1, 1, 1, 0, 1, 1, 0, 0] True True\n",
      "5b: [0, 1, 1, 0, 1, 1, 1, 0] True True\n",
      "6a: [1, 1, 1, 0, 1, 1, 1, 0] True True\n",
      "6b: [0, 1, 1, 0, 1, 1, 1, 1] True True\n",
      "7a: [1, 1, 1, 0, 1, 1, 1, 0] True False\n",
      "8a: [1, 1, 1, 1, 1, 1, 1, 1] True True\n"
     ]
    }
   ],
   "source": [
    "# print out the patterns and check length of each list and if they add up to index\n",
    "print \"covered\"\n",
    "choices=['a','b']\n",
    "for i in range(len(covered)):\n",
    "    for j in range(len(covered[i])):\n",
    "        lenlist=True\n",
    "        sumlist=True\n",
    "        if  len(covered[i][choices[j]])!=8:\n",
    "            lenlist=False\n",
    "        if sum(covered[i][choices[j]])!=i+1:\n",
    "            sumlist=False\n",
    "        print str(i+1)+choices[j]+\": \"+str(covered[i][choices[j]])+\" \"+str(lenlist)+\" \"+str(sumlist)"
   ]
  },
  {
   "cell_type": "code",
   "execution_count": 9,
   "metadata": {
    "collapsed": false
   },
   "outputs": [
    {
     "data": {
      "text/plain": [
       "[37,\n",
       " 35,\n",
       " 28,\n",
       " 15,\n",
       " 31,\n",
       " 27,\n",
       " 44,\n",
       " 22,\n",
       " 2,\n",
       " 38,\n",
       " 24,\n",
       " 6,\n",
       " 3,\n",
       " 48,\n",
       " 18,\n",
       " 26,\n",
       " 46,\n",
       " 36,\n",
       " 14,\n",
       " 30,\n",
       " 42,\n",
       " 8,\n",
       " 33,\n",
       " 34,\n",
       " 45,\n",
       " 16,\n",
       " 29,\n",
       " 47,\n",
       " 21,\n",
       " 50,\n",
       " 10,\n",
       " 7,\n",
       " 32,\n",
       " 13,\n",
       " 23,\n",
       " 39,\n",
       " 41,\n",
       " 20,\n",
       " 25,\n",
       " 40,\n",
       " 11,\n",
       " 17,\n",
       " 1,\n",
       " 12,\n",
       " 5,\n",
       " 43,\n",
       " 19,\n",
       " 4,\n",
       " 6,\n",
       " 49]"
      ]
     },
     "execution_count": 9,
     "metadata": {},
     "output_type": "execute_result"
    }
   ],
   "source": [
    "int_duration"
   ]
  },
  {
   "cell_type": "code",
   "execution_count": 10,
   "metadata": {
    "collapsed": false
   },
   "outputs": [
    {
     "data": {
      "text/plain": [
       "[1,\n",
       " 2,\n",
       " 3,\n",
       " 4,\n",
       " 5,\n",
       " 6,\n",
       " 6,\n",
       " 7,\n",
       " 8,\n",
       " 10,\n",
       " 11,\n",
       " 12,\n",
       " 13,\n",
       " 14,\n",
       " 15,\n",
       " 16,\n",
       " 17,\n",
       " 18,\n",
       " 19,\n",
       " 20,\n",
       " 21,\n",
       " 22,\n",
       " 23,\n",
       " 24,\n",
       " 25,\n",
       " 26,\n",
       " 27,\n",
       " 28,\n",
       " 29,\n",
       " 30,\n",
       " 31,\n",
       " 32,\n",
       " 33,\n",
       " 34,\n",
       " 35,\n",
       " 36,\n",
       " 37,\n",
       " 38,\n",
       " 39,\n",
       " 40,\n",
       " 41,\n",
       " 42,\n",
       " 43,\n",
       " 44,\n",
       " 45,\n",
       " 46,\n",
       " 47,\n",
       " 48,\n",
       " 49,\n",
       " 50]"
      ]
     },
     "execution_count": 10,
     "metadata": {},
     "output_type": "execute_result"
    }
   ],
   "source": [
    "int_duration.sort()\n",
    "int_duration"
   ]
  },
  {
   "cell_type": "code",
   "execution_count": 11,
   "metadata": {
    "collapsed": false
   },
   "outputs": [],
   "source": [
    "bags['airflow'] = [0, 0.5, 1]"
   ]
  },
  {
   "cell_type": "code",
   "execution_count": 12,
   "metadata": {
    "collapsed": false
   },
   "outputs": [],
   "source": [
    "bags['mouthpiece'] = [0, 0.25, 0.5, 1]"
   ]
  },
  {
   "cell_type": "code",
   "execution_count": 13,
   "metadata": {
    "collapsed": false
   },
   "outputs": [],
   "source": [
    "bags['dynamics'] = ['<', '>']"
   ]
  },
  {
   "cell_type": "code",
   "execution_count": 14,
   "metadata": {
    "collapsed": false
   },
   "outputs": [],
   "source": [
    "bags['dynamics'] += [(x+1)*y if x < 3 else 'm'+y for x in range(4) for y in ['f','p']]"
   ]
  },
  {
   "cell_type": "code",
   "execution_count": 15,
   "metadata": {
    "collapsed": false
   },
   "outputs": [
    {
     "data": {
      "text/plain": [
       "['<', '>', 'f', 'p', 'ff', 'pp', 'fff', 'ppp', 'mf', 'mp']"
      ]
     },
     "execution_count": 15,
     "metadata": {},
     "output_type": "execute_result"
    }
   ],
   "source": [
    "bags['dynamics']"
   ]
  },
  {
   "cell_type": "code",
   "execution_count": 16,
   "metadata": {
    "collapsed": true
   },
   "outputs": [],
   "source": [
    "bags['articulation'] = ['.', '-', '>', '>>', 'mini tongue ram @end of breath']\n",
    "# what do these mean? \n",
    "# does the direction of the arrows matter?\n",
    "# is the double arrow ok?"
   ]
  },
  {
   "cell_type": "code",
   "execution_count": 17,
   "metadata": {
    "collapsed": false
   },
   "outputs": [
    {
     "data": {
      "text/plain": [
       "['.', '-', '>', '>>', 'mini tongue ram @end of breath']"
      ]
     },
     "execution_count": 17,
     "metadata": {},
     "output_type": "execute_result"
    }
   ],
   "source": [
    "bags['articulation']"
   ]
  },
  {
   "cell_type": "code",
   "execution_count": 18,
   "metadata": {
    "collapsed": true
   },
   "outputs": [],
   "source": [
    "#text and glissandi\n",
    "bags['techniques_1'] = ['expel air', 'frustration', 'grant', 'sigh',\n",
    "                        'text spoken mouthing vowels u',\n",
    "                        'text spoken mouthing vowels i',\n",
    "                        'text spoken mouthing vowels e',\n",
    "                        'text spoken mouthing vowels o',\n",
    "                        'text spoken mouthing vowels a',\n",
    "                        'text spoken mouthing consonants k',\n",
    "                        'text spoken mouthing consonants s',\n",
    "                        'text spoken mouthing consonants f',\n",
    "                        'text spoken mouthing consonants d',\n",
    "                        'glissandi of pitch/sounds',\n",
    "                        'glissandi of air',\n",
    "                        'glissandi of grand', \n",
    "                        'glissandi of fingering',\n",
    "                        'glissandi of whistle',\n",
    "                        'text sung, ossia ...tone?'\n",
    "                        'text spoken speaking using pitch too, of air / the breath, medium, Tim Minton',\n",
    "                        'text spoken speaking using pitch too, of air / the breath, high, Tim Minton',\n",
    "                        'text spoken speaking using pitch too, of air / the breath, low, Tim Minton',\n",
    "                        'text spoken speaking using voice, ord., Tim Minton']\n",
    "# separate glissandi, text and others? and have additional layer to choose?\n",
    "# why do they actually go together?\n",
    "# how did you choose the consonants?"
   ]
  },
  {
   "cell_type": "code",
   "execution_count": 19,
   "metadata": {
    "collapsed": false
   },
   "outputs": [
    {
     "data": {
      "text/plain": [
       "22"
      ]
     },
     "execution_count": 19,
     "metadata": {},
     "output_type": "execute_result"
    }
   ],
   "source": [
    "len(bags['techniques_1'])"
   ]
  },
  {
   "cell_type": "code",
   "execution_count": 20,
   "metadata": {
    "collapsed": false
   },
   "outputs": [],
   "source": [
    "bags['techniques_1'] = ['expel air', 'frustration', 'grant', 'sigh', 'text sung, ossia ..?']\n",
    "bags['techniques_1'] += ['glissandi of '+str(x) for x in ['air', 'grand', 'fingering', 'whistle']]\n",
    "bags['techniques_1'] += ['text spoken mouthing vowels '+str(x) for x in ['a', 'e', 'i', 'o', 'u']]\n",
    "bags['techniques_1'] += ['text spoken mouthing consonants '+str(x) for x in ['k', 's', 'f', 'd']]\n",
    "bags['techniques_1'] += ['text spoken, Tim Minton, speaking using '+str(x) for x in \n",
    "                        ['voice, ordinary']+['pitch too, of air/the breath '\n",
    "                                             +str(y) for y in ['low', 'medium', 'high']]]"
   ]
  },
  {
   "cell_type": "code",
   "execution_count": 21,
   "metadata": {
    "collapsed": false
   },
   "outputs": [
    {
     "data": {
      "text/plain": [
       "22"
      ]
     },
     "execution_count": 21,
     "metadata": {},
     "output_type": "execute_result"
    }
   ],
   "source": [
    "len(bags['techniques_1'])"
   ]
  },
  {
   "cell_type": "code",
   "execution_count": 22,
   "metadata": {
    "collapsed": false
   },
   "outputs": [
    {
     "data": {
      "text/plain": [
       "['expel air',\n",
       " 'frustration',\n",
       " 'grant',\n",
       " 'sigh',\n",
       " 'text sung, ossia ..?',\n",
       " 'glissandi of air',\n",
       " 'glissandi of grand',\n",
       " 'glissandi of fingering',\n",
       " 'glissandi of whistle',\n",
       " 'text spoken mouthing vowels a',\n",
       " 'text spoken mouthing vowels e',\n",
       " 'text spoken mouthing vowels i',\n",
       " 'text spoken mouthing vowels o',\n",
       " 'text spoken mouthing vowels u',\n",
       " 'text spoken mouthing consonants k',\n",
       " 'text spoken mouthing consonants s',\n",
       " 'text spoken mouthing consonants f',\n",
       " 'text spoken mouthing consonants d',\n",
       " 'text spoken, Tim Minton, speaking using voice, ordinary',\n",
       " 'text spoken, Tim Minton, speaking using pitch too, of air/the breath low',\n",
       " 'text spoken, Tim Minton, speaking using pitch too, of air/the breath medium',\n",
       " 'text spoken, Tim Minton, speaking using pitch too, of air/the breath high']"
      ]
     },
     "execution_count": 22,
     "metadata": {},
     "output_type": "execute_result"
    }
   ],
   "source": [
    "bags['techniques_1']"
   ]
  },
  {
   "cell_type": "code",
   "execution_count": 23,
   "metadata": {
    "collapsed": false
   },
   "outputs": [],
   "source": [
    "# everything else\n",
    "bags['techniques_2'] = ['whistle tone / flute whistle',\n",
    "                        'gravel (only out) in voice',\n",
    "                        'gravel (only out) alone',\n",
    "                        'whistle tooth (only out)',\n",
    "                        'beating (singing+air), .5 covered',\n",
    "                        'beating (singing+air), .25 covered',\n",
    "                        'whistle body (i.e. lips) (in/out)',\n",
    "                        'whistle sssss',\n",
    "                        'spit / saliva sound']"
   ]
  },
  {
   "cell_type": "code",
   "execution_count": 24,
   "metadata": {
    "collapsed": false
   },
   "outputs": [
    {
     "data": {
      "text/plain": [
       "['whistle tone / flute whistle',\n",
       " 'gravel (only out) in voice',\n",
       " 'gravel (only out) alone',\n",
       " 'whistle tooth (only out)',\n",
       " 'beating (singing+air), .5 covered',\n",
       " 'beating (singing+air), .25 covered',\n",
       " 'whistle body (i.e. lips) (in/out)',\n",
       " 'whistle sssss',\n",
       " 'spit / saliva sound']"
      ]
     },
     "execution_count": 24,
     "metadata": {},
     "output_type": "execute_result"
    }
   ],
   "source": [
    "bags['techniques_2']"
   ]
  },
  {
   "cell_type": "code",
   "execution_count": 25,
   "metadata": {
    "collapsed": false
   },
   "outputs": [
    {
     "name": "stdout",
     "output_type": "stream",
     "text": [
      "odd\n",
      "1\n",
      "even\n",
      "2\n",
      "odd\n",
      "2\n",
      "even\n",
      "2\n",
      "odd\n",
      "2\n",
      "even\n",
      "0\n",
      "odd\n",
      "2\n",
      "even\n",
      "0\n",
      "odd\n",
      "2\n",
      "even\n",
      "1\n"
     ]
    }
   ],
   "source": [
    "count = 0\n",
    "\n",
    "while count < 10:\n",
    "    count += 1\n",
    "    \n",
    "    if count%2==0:\n",
    "        print 'even'\n",
    "    else:\n",
    "        print 'odd'\n",
    "    \n",
    "    print randint(0,3)"
   ]
  },
  {
   "cell_type": "code",
   "execution_count": 26,
   "metadata": {
    "collapsed": false
   },
   "outputs": [
    {
     "data": {
      "text/plain": [
       "4"
      ]
     },
     "execution_count": 26,
     "metadata": {},
     "output_type": "execute_result"
    }
   ],
   "source": [
    "len([0,1,2,3]) # randint(0, len(list)-1)"
   ]
  },
  {
   "cell_type": "code",
   "execution_count": 27,
   "metadata": {
    "collapsed": false
   },
   "outputs": [
    {
     "name": "stdout",
     "output_type": "stream",
     "text": [
      "after in\n"
     ]
    }
   ],
   "source": [
    "print bags['hold_breath'][randint(0, len(bags['hold_breath']))]"
   ]
  },
  {
   "cell_type": "code",
   "execution_count": 28,
   "metadata": {
    "collapsed": true
   },
   "outputs": [],
   "source": [
    "def pick(bag):\n",
    "    paper = bags[bag][randint(0, len(bags[bag])-1)]\n",
    "    return paper\n",
    "\n",
    "piece = []\n",
    "count = 0"
   ]
  },
  {
   "cell_type": "code",
   "execution_count": 29,
   "metadata": {
    "collapsed": false
   },
   "outputs": [
    {
     "name": "stdout",
     "output_type": "stream",
     "text": [
      "<type 'dict'>\n",
      "<type 'dict'>\n",
      "<type 'dict'>\n",
      "<type 'dict'>\n",
      "<type 'dict'>\n",
      "<type 'dict'>\n",
      "<type 'dict'>\n",
      "<type 'dict'>\n"
     ]
    }
   ],
   "source": [
    "while count < 20: # will have to be replaced by duration time lenght, testing\n",
    "\n",
    "    count += 1\n",
    "    part = dict()\n",
    "    part['count'] = count\n",
    "\n",
    "    # alternate in and out\n",
    "    if count%2==0:\n",
    "        part['breath']=1 # in breath\n",
    "    else:\n",
    "        part['breath']=0 # out breath\n",
    "\n",
    "    '''hold breath'''\n",
    "    # decide whether to pick\n",
    "    if pick('yesno'):\n",
    "        part['hold_breath'] = {'type':pick('hold_breath')}\n",
    "        print type(part['hold_breath'])\n",
    "\n",
    "        # check if hold breath fits to in/out\n",
    "        if ((part['breath'] and 'out' in part['hold_breath']) \\\n",
    "            or (not part['breath'] and 'in' in part['hold_breath'])):\n",
    "            del part['hold_breath']\n",
    "\n",
    "        # if hold breath still exists, pick timing and duration\n",
    "        #else:\n",
    "    #        pick['duration']\n"
   ]
  },
  {
   "cell_type": "code",
   "execution_count": 34,
   "metadata": {
    "collapsed": false
   },
   "outputs": [
    {
     "ename": "KeyError",
     "evalue": "'hold_breath'",
     "output_type": "error",
     "traceback": [
      "\u001b[1;31m---------------------------------------------------------------------------\u001b[0m",
      "\u001b[1;31mKeyError\u001b[0m                                  Traceback (most recent call last)",
      "\u001b[1;32m<ipython-input-34-7c06918f6c24>\u001b[0m in \u001b[0;36m<module>\u001b[1;34m()\u001b[0m\n\u001b[1;32m----> 1\u001b[1;33m \u001b[0mpart\u001b[0m\u001b[1;33m[\u001b[0m\u001b[1;34m'hold_breath'\u001b[0m\u001b[1;33m]\u001b[0m\u001b[1;33m\u001b[0m\u001b[0m\n\u001b[0m",
      "\u001b[1;31mKeyError\u001b[0m: 'hold_breath'"
     ]
    }
   ],
   "source": [
    "part['hold_breath']"
   ]
  },
  {
   "cell_type": "code",
   "execution_count": 38,
   "metadata": {
    "collapsed": false
   },
   "outputs": [
    {
     "ename": "SyntaxError",
     "evalue": "invalid syntax (<ipython-input-38-68cd8beffbcb>, line 1)",
     "output_type": "error",
     "traceback": [
      "\u001b[1;36m  File \u001b[1;32m\"<ipython-input-38-68cd8beffbcb>\"\u001b[1;36m, line \u001b[1;32m1\u001b[0m\n\u001b[1;33m    test = [x+=y]\u001b[0m\n\u001b[1;37m              ^\u001b[0m\n\u001b[1;31mSyntaxError\u001b[0m\u001b[1;31m:\u001b[0m invalid syntax\n"
     ]
    }
   ],
   "source": [
    "test = [x+=y]"
   ]
  },
  {
   "cell_type": "code",
   "execution_count": 42,
   "metadata": {
    "collapsed": false
   },
   "outputs": [
    {
     "data": {
      "text/plain": [
       "[-4, -3, -2, -1, 1, 2, 3, 4]"
      ]
     },
     "execution_count": 42,
     "metadata": {},
     "output_type": "execute_result"
    }
   ],
   "source": [
    "range(-4,0)+range(1,5)"
   ]
  },
  {
   "cell_type": "code",
   "execution_count": 44,
   "metadata": {
    "collapsed": false
   },
   "outputs": [],
   "source": [
    "import operator"
   ]
  },
  {
   "cell_type": "code",
   "execution_count": 46,
   "metadata": {
    "collapsed": false
   },
   "outputs": [
    {
     "name": "stdout",
     "output_type": "stream",
     "text": [
      "Object `operator.mt` not found.\n"
     ]
    }
   ],
   "source": [
    "operator."
   ]
  },
  {
   "cell_type": "code",
   "execution_count": 47,
   "metadata": {
    "collapsed": true
   },
   "outputs": [],
   "source": [
    "a=b=1"
   ]
  },
  {
   "cell_type": "code",
   "execution_count": 48,
   "metadata": {
    "collapsed": true
   },
   "outputs": [],
   "source": [
    "test = dict()"
   ]
  },
  {
   "cell_type": "code",
   "execution_count": 49,
   "metadata": {
    "collapsed": true
   },
   "outputs": [],
   "source": [
    "test['a']=test['b']=1"
   ]
  },
  {
   "cell_type": "code",
   "execution_count": 50,
   "metadata": {
    "collapsed": false
   },
   "outputs": [
    {
     "data": {
      "text/plain": [
       "{'a': 1, 'b': 1}"
      ]
     },
     "execution_count": 50,
     "metadata": {},
     "output_type": "execute_result"
    }
   ],
   "source": [
    "test"
   ]
  },
  {
   "cell_type": "code",
   "execution_count": 51,
   "metadata": {
    "collapsed": true
   },
   "outputs": [],
   "source": [
    "test['a']=2"
   ]
  },
  {
   "cell_type": "code",
   "execution_count": 52,
   "metadata": {
    "collapsed": false
   },
   "outputs": [
    {
     "data": {
      "text/plain": [
       "{'a': 2, 'b': 1}"
      ]
     },
     "execution_count": 52,
     "metadata": {},
     "output_type": "execute_result"
    }
   ],
   "source": [
    "test"
   ]
  },
  {
   "cell_type": "code",
   "execution_count": 60,
   "metadata": {
    "collapsed": false
   },
   "outputs": [
    {
     "data": {
      "text/plain": [
       "1"
      ]
     },
     "execution_count": 60,
     "metadata": {},
     "output_type": "execute_result"
    }
   ],
   "source": [
    "randint(0,1)"
   ]
  },
  {
   "cell_type": "code",
   "execution_count": 61,
   "metadata": {
    "collapsed": true
   },
   "outputs": [],
   "source": [
    "bags['dynamics'] = ['<', '>']\n",
    "#bags['dynamics'] += [(x+1)*y if x < 3 else 'm'+y\n",
    "#                     for x in range(4) for y in ['f','p']]\n",
    "bags['dynamics'] += range(-4,0)+range(1,5)"
   ]
  },
  {
   "cell_type": "code",
   "execution_count": 65,
   "metadata": {
    "collapsed": false
   },
   "outputs": [
    {
     "data": {
      "text/plain": [
       "4"
      ]
     },
     "execution_count": 65,
     "metadata": {},
     "output_type": "execute_result"
    }
   ],
   "source": [
    "max([x for x in bags['dynamics'] if type(x)==int])"
   ]
  },
  {
   "cell_type": "code",
   "execution_count": 66,
   "metadata": {
    "collapsed": false
   },
   "outputs": [
    {
     "data": {
      "text/plain": [
       "-4"
      ]
     },
     "execution_count": 66,
     "metadata": {},
     "output_type": "execute_result"
    }
   ],
   "source": [
    "min([x for x in bags['dynamics'] if type(x)==int])"
   ]
  },
  {
   "cell_type": "code",
   "execution_count": null,
   "metadata": {
    "collapsed": true
   },
   "outputs": [],
   "source": []
  }
 ],
 "metadata": {
  "kernelspec": {
   "display_name": "Python 2",
   "language": "python",
   "name": "python2"
  },
  "language_info": {
   "codemirror_mode": {
    "name": "ipython",
    "version": 2
   },
   "file_extension": ".py",
   "mimetype": "text/x-python",
   "name": "python",
   "nbconvert_exporter": "python",
   "pygments_lexer": "ipython2",
   "version": "2.7.6"
  }
 },
 "nbformat": 4,
 "nbformat_minor": 0
}
