{
 "cells": [
  {
   "cell_type": "code",
   "execution_count": 66,
   "metadata": {
    "collapsed": true
   },
   "outputs": [],
   "source": [
    "import numpy as np\n",
    "from random import randint"
   ]
  },
  {
   "cell_type": "markdown",
   "metadata": {},
   "source": [
    "initializing a data structure containing the different materials to draw from "
   ]
  },
  {
   "cell_type": "code",
   "execution_count": 67,
   "metadata": {
    "collapsed": true
   },
   "outputs": [],
   "source": [
    "bags = dict()"
   ]
  },
  {
   "cell_type": "code",
   "execution_count": 68,
   "metadata": {
    "collapsed": false
   },
   "outputs": [],
   "source": [
    "bags['yesno'] = 7*[True] + 13*[False]"
   ]
  },
  {
   "cell_type": "code",
   "execution_count": 69,
   "metadata": {
    "collapsed": false
   },
   "outputs": [
    {
     "name": "stdout",
     "output_type": "stream",
     "text": [
      "# all durations: 54\n",
      "# integer durations: 50\n",
      "total length of integer durations: 1272\n",
      "string durations: ['as long as you can', 'as long as you can', 'as long as you can', 'as long as you can']\n"
     ]
    }
   ],
   "source": [
    "bags['duration'] = [37, \"as long as you can\", 35, 28, 15, 31, 27, 44, 22, 2, 38, 24, 6, 3, 48, 18, 26, 46, \n",
    "                    36, 14, 30, 42, 8,33, 34, 45, 16, 29, 47, 21, 50, 10, \"as long as you can\", 7, 32, \n",
    "                    \"as long as you can\", 13, 23, 39, 41, 20, 25, 40, 11, 17, 1, 12, 5, 43, 19, 4, 6, \n",
    "                    \"as long as you can\", 49]\n",
    "# how to check for total length with instructions like \"as long as you can\"?\n",
    "# where are the numbers from? how could they be generated?\n",
    "\n",
    "# check that all durations are in there (should be 54)\n",
    "print \"# all durations: \"+str(len(bags['duration']))\n",
    "\n",
    "# check how many interger durations and what all integer durations add up to\n",
    "int_duration = [x for x in bags['duration'] if type(x)==int]\n",
    "print \"# integer durations: \"+str(len(int_duration))\n",
    "print \"total length of integer durations: \"+str(sum(int_duration))\n",
    "\n",
    "# print string durations\n",
    "str_duration = [y for y in bags['duration'] if type(y)==str]\n",
    "print \"string durations: \"+str(str_duration)"
   ]
  },
  {
   "cell_type": "code",
   "execution_count": 70,
   "metadata": {
    "collapsed": true
   },
   "outputs": [],
   "source": [
    "bags['hold_breath'] = ['in middle', 'after in', 'after out']\n",
    "# pick duration for hold\n",
    "# ,"
   ]
  },
  {
   "cell_type": "code",
   "execution_count": 71,
   "metadata": {
    "collapsed": false
   },
   "outputs": [],
   "source": [
    "bags['fingering'] = ['trill keys 1', 'trill keys 2', '+thumb', '+thumb', '+thumb', 'trill keys 1+2', \n",
    "                     1, 2, 3, 4, 5, 6, 7, 8]\n",
    "# what is trill keys 1 or 2 referring to?\n",
    "# len should be 14"
   ]
  },
  {
   "cell_type": "code",
   "execution_count": 72,
   "metadata": {
    "collapsed": false
   },
   "outputs": [],
   "source": [
    "covered = [{'a':[1]+7*[0], 'b':[0,1]+6*[0]}, \n",
    "           {'a':2*[1]+6*[0], 'b':4*[0]+2*[1]+2*[0]},\n",
    "           {'a':3*[1]+5*[0], 'b':2*[1]+2*[0]+1*[1]+3*[0]},\n",
    "           {'a':3*[1]+1*[0]+1*[1]+3*[0], 'b':1*[1]+3*[0]+3*[1]+1*[0]},\n",
    "           {'a':3*[1]+1*[0]+2*[1]+2*[0], 'b':1*[0]+2*[1]+1*[0]+3*[1]+1*[0]},\n",
    "           {'a':3*[1]+1*[0]+3*[1]+1*[0], 'b':1*[0]+2*[1]+1*[0]+4*[1]},\n",
    "           {'a':3*[1]+1*[0]+3*[1]+1*[0]},\n",
    "           {'a':8*[1]}\n",
    "          ]\n",
    "# each list implements the 8 holes to cover, left to right"
   ]
  },
  {
   "cell_type": "code",
   "execution_count": 73,
   "metadata": {
    "collapsed": false
   },
   "outputs": [
    {
     "name": "stdout",
     "output_type": "stream",
     "text": [
      "covered\n",
      "1a: [1, 0, 0, 0, 0, 0, 0, 0] True True\n",
      "1b: [0, 1, 0, 0, 0, 0, 0, 0] True True\n",
      "2a: [1, 1, 0, 0, 0, 0, 0, 0] True True\n",
      "2b: [0, 0, 0, 0, 1, 1, 0, 0] True True\n",
      "3a: [1, 1, 1, 0, 0, 0, 0, 0] True True\n",
      "3b: [1, 1, 0, 0, 1, 0, 0, 0] True True\n",
      "4a: [1, 1, 1, 0, 1, 0, 0, 0] True True\n",
      "4b: [1, 0, 0, 0, 1, 1, 1, 0] True True\n",
      "5a: [1, 1, 1, 0, 1, 1, 0, 0] True True\n",
      "5b: [0, 1, 1, 0, 1, 1, 1, 0] True True\n",
      "6a: [1, 1, 1, 0, 1, 1, 1, 0] True True\n",
      "6b: [0, 1, 1, 0, 1, 1, 1, 1] True True\n",
      "7a: [1, 1, 1, 0, 1, 1, 1, 0] True False\n",
      "8a: [1, 1, 1, 1, 1, 1, 1, 1] True True\n"
     ]
    }
   ],
   "source": [
    "# print out the patterns and check length of each list and if they add up to index\n",
    "print \"covered\"\n",
    "choices=['a','b']\n",
    "for i in range(len(covered)):\n",
    "    for j in range(len(covered[i])):\n",
    "        lenlist=True\n",
    "        sumlist=True\n",
    "        if  len(covered[i][choices[j]])!=8:\n",
    "            lenlist=False\n",
    "        if sum(covered[i][choices[j]])!=i+1:\n",
    "            sumlist=False\n",
    "        print str(i+1)+choices[j]+\": \"+str(covered[i][choices[j]])+\" \"+str(lenlist)+\" \"+str(sumlist)"
   ]
  },
  {
   "cell_type": "code",
   "execution_count": 74,
   "metadata": {
    "collapsed": false
   },
   "outputs": [
    {
     "data": {
      "text/plain": [
       "[37,\n",
       " 35,\n",
       " 28,\n",
       " 15,\n",
       " 31,\n",
       " 27,\n",
       " 44,\n",
       " 22,\n",
       " 2,\n",
       " 38,\n",
       " 24,\n",
       " 6,\n",
       " 3,\n",
       " 48,\n",
       " 18,\n",
       " 26,\n",
       " 46,\n",
       " 36,\n",
       " 14,\n",
       " 30,\n",
       " 42,\n",
       " 8,\n",
       " 33,\n",
       " 34,\n",
       " 45,\n",
       " 16,\n",
       " 29,\n",
       " 47,\n",
       " 21,\n",
       " 50,\n",
       " 10,\n",
       " 7,\n",
       " 32,\n",
       " 13,\n",
       " 23,\n",
       " 39,\n",
       " 41,\n",
       " 20,\n",
       " 25,\n",
       " 40,\n",
       " 11,\n",
       " 17,\n",
       " 1,\n",
       " 12,\n",
       " 5,\n",
       " 43,\n",
       " 19,\n",
       " 4,\n",
       " 6,\n",
       " 49]"
      ]
     },
     "execution_count": 74,
     "metadata": {},
     "output_type": "execute_result"
    }
   ],
   "source": [
    "int_duration"
   ]
  },
  {
   "cell_type": "code",
   "execution_count": 75,
   "metadata": {
    "collapsed": false
   },
   "outputs": [
    {
     "data": {
      "text/plain": [
       "[1,\n",
       " 2,\n",
       " 3,\n",
       " 4,\n",
       " 5,\n",
       " 6,\n",
       " 6,\n",
       " 7,\n",
       " 8,\n",
       " 10,\n",
       " 11,\n",
       " 12,\n",
       " 13,\n",
       " 14,\n",
       " 15,\n",
       " 16,\n",
       " 17,\n",
       " 18,\n",
       " 19,\n",
       " 20,\n",
       " 21,\n",
       " 22,\n",
       " 23,\n",
       " 24,\n",
       " 25,\n",
       " 26,\n",
       " 27,\n",
       " 28,\n",
       " 29,\n",
       " 30,\n",
       " 31,\n",
       " 32,\n",
       " 33,\n",
       " 34,\n",
       " 35,\n",
       " 36,\n",
       " 37,\n",
       " 38,\n",
       " 39,\n",
       " 40,\n",
       " 41,\n",
       " 42,\n",
       " 43,\n",
       " 44,\n",
       " 45,\n",
       " 46,\n",
       " 47,\n",
       " 48,\n",
       " 49,\n",
       " 50]"
      ]
     },
     "execution_count": 75,
     "metadata": {},
     "output_type": "execute_result"
    }
   ],
   "source": [
    "int_duration.sort()\n",
    "int_duration"
   ]
  },
  {
   "cell_type": "code",
   "execution_count": 95,
   "metadata": {
    "collapsed": false
   },
   "outputs": [],
   "source": [
    "bags['airflow'] = [0, 0.5, 1]"
   ]
  },
  {
   "cell_type": "code",
   "execution_count": 103,
   "metadata": {
    "collapsed": false
   },
   "outputs": [],
   "source": [
    "bags['mouthpiece'] = [0, 0.25, 0.5, 1]"
   ]
  },
  {
   "cell_type": "code",
   "execution_count": 133,
   "metadata": {
    "collapsed": false
   },
   "outputs": [],
   "source": [
    "bags['dynamics'] = ['<', '>']"
   ]
  },
  {
   "cell_type": "code",
   "execution_count": 134,
   "metadata": {
    "collapsed": false
   },
   "outputs": [],
   "source": [
    "bags['dynamics'] += [(x+1)*y if x < 3 else 'm'+y for x in range(4) for y in ['f','p']]"
   ]
  },
  {
   "cell_type": "code",
   "execution_count": 135,
   "metadata": {
    "collapsed": false
   },
   "outputs": [
    {
     "data": {
      "text/plain": [
       "['<', '>', 'f', 'p', 'ff', 'pp', 'fff', 'ppp', 'mf', 'mp']"
      ]
     },
     "execution_count": 135,
     "metadata": {},
     "output_type": "execute_result"
    }
   ],
   "source": [
    "bags['dynamics']"
   ]
  },
  {
   "cell_type": "markdown",
   "metadata": {},
   "source": [
    "IN / OUT"
   ]
  },
  {
   "cell_type": "markdown",
   "metadata": {},
   "source": [
    "piece = list (or dict)  of lenght 27"
   ]
  }
 ],
 "metadata": {
  "kernelspec": {
   "display_name": "Python 2",
   "language": "python",
   "name": "python2"
  },
  "language_info": {
   "codemirror_mode": {
    "name": "ipython",
    "version": 2
   },
   "file_extension": ".py",
   "mimetype": "text/x-python",
   "name": "python",
   "nbconvert_exporter": "python",
   "pygments_lexer": "ipython2",
   "version": "2.7.6"
  }
 },
 "nbformat": 4,
 "nbformat_minor": 0
}
