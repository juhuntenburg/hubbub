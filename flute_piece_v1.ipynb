{
 "cells": [
  {
   "cell_type": "code",
   "execution_count": 8,
   "metadata": {
    "collapsed": true
   },
   "outputs": [],
   "source": [
    "import numpy as np\n",
    "from random import randint"
   ]
  },
  {
   "cell_type": "markdown",
   "metadata": {},
   "source": [
    "initializing a data structure containing the different materials to draw from "
   ]
  },
  {
   "cell_type": "code",
   "execution_count": 22,
   "metadata": {
    "collapsed": true
   },
   "outputs": [],
   "source": [
    "bags = dict()"
   ]
  },
  {
   "cell_type": "code",
   "execution_count": 23,
   "metadata": {
    "collapsed": false
   },
   "outputs": [],
   "source": [
    "bags['yesno'] = 7*[True] + 13*[False]"
   ]
  },
  {
   "cell_type": "code",
   "execution_count": 45,
   "metadata": {
    "collapsed": false
   },
   "outputs": [
    {
     "name": "stdout",
     "output_type": "stream",
     "text": [
      "# all durations: 54\n",
      "# integer durations: 50\n",
      "total length of integer durations: 1272\n",
      "string durations: ['as long as you can', 'as long as you can', 'as long as you can', 'as long as you can']\n"
     ]
    }
   ],
   "source": [
    "bags['duration'] = [37, \"as long as you can\", 35, 28, 15, 31, 27, 44, 22, 2, 38, 24, 6, 3, 48, 18, 26, 46, \n",
    "                    36, 14, 30, 42, 8,33, 34, 45, 16, 29, 47, 21, 50, 10, \"as long as you can\", 7, 32, \n",
    "                    \"as long as you can\", 13, 23, 39, 41, 20, 25, 40, 11, 17, 1, 12, 5, 43, 19, 4, 6, \n",
    "                    \"as long as you can\", 49]\n",
    "# how to check for total length with instructions like \"as long as you can\"?\n",
    "# where are the numbers from? how could they be generated?\n",
    "\n",
    "# check that all durations are in there (should be 54)\n",
    "print \"# all durations: \"+str(len(bags['duration']))\n",
    "\n",
    "# check how many interger durations and what all integer durations add up to\n",
    "int_duration = [x for x in bags['duration'] if type(x)==int]\n",
    "print \"# integer durations: \"+str(len(int_duration))\n",
    "print \"total length of integer durations: \"+str(sum(int_duration))\n",
    "\n",
    "# print string durations\n",
    "str_duration = [y for y in bags['duration'] if type(y)==str]\n",
    "print \"string durations: \"+str(str_duration)"
   ]
  },
  {
   "cell_type": "code",
   "execution_count": null,
   "metadata": {
    "collapsed": true
   },
   "outputs": [],
   "source": [
    "bags['hold_breath'] = ['in middle', 'after in', 'after out']\n",
    "# pick duration for hold\n",
    "# ,"
   ]
  },
  {
   "cell_type": "code",
   "execution_count": 75,
   "metadata": {
    "collapsed": false
   },
   "outputs": [],
   "source": [
    "bags['fingering'] = ['trill keys 1', 'trill keys 2', '+thumb', '+thumb', '+thumb', 'trill keys 1+2', \n",
    "                     1, 2, 3, 4, 5, 6, 7, 8]\n",
    "# what is trill keys 1 or 2 referring to?\n",
    "# len should be 14"
   ]
  },
  {
   "cell_type": "code",
   "execution_count": 76,
   "metadata": {
    "collapsed": false
   },
   "outputs": [
    {
     "data": {
      "text/plain": [
       "['trill keys 1',\n",
       " 'trill keys 2',\n",
       " '+thumb',\n",
       " '+thumb',\n",
       " '+thumb',\n",
       " 'trill keys 1+2',\n",
       " 1,\n",
       " 2,\n",
       " 3,\n",
       " 4,\n",
       " 5,\n",
       " 6,\n",
       " 7,\n",
       " 8]"
      ]
     },
     "execution_count": 76,
     "metadata": {},
     "output_type": "execute_result"
    }
   ],
   "source": [
    "bags['fingering']"
   ]
  },
  {
   "cell_type": "code",
   "execution_count": 66,
   "metadata": {
    "collapsed": false
   },
   "outputs": [],
   "source": [
    "covered = [{'a':[1]+7*[0], 'b':[0,1]+6*[0]}, \n",
    "           {'a':2*[1]+6*[0], 'b':4*[0]+2*[1]+2*[0]},\n",
    "           {'a':[, 'b':}\n",
    "          ]\n",
    "# each list implements the 8 holes to cover, left to right\n",
    "\n",
    "# check length of each list and if they add up to index"
   ]
  },
  {
   "cell_type": "code",
   "execution_count": 68,
   "metadata": {
    "collapsed": false
   },
   "outputs": [
    {
     "data": {
      "text/plain": [
       "[0, 0, 0, 0, 1, 1, 0, 0]"
      ]
     },
     "execution_count": 68,
     "metadata": {},
     "output_type": "execute_result"
    }
   ],
   "source": [
    "covered[1]['b']"
   ]
  },
  {
   "cell_type": "markdown",
   "metadata": {},
   "source": [
    "IN / OUT"
   ]
  },
  {
   "cell_type": "markdown",
   "metadata": {},
   "source": [
    "piece = list (or dict)  of lenght 27"
   ]
  }
 ],
 "metadata": {
  "kernelspec": {
   "display_name": "Python 2",
   "language": "python",
   "name": "python2"
  },
  "language_info": {
   "codemirror_mode": {
    "name": "ipython",
    "version": 2
   },
   "file_extension": ".py",
   "mimetype": "text/x-python",
   "name": "python",
   "nbconvert_exporter": "python",
   "pygments_lexer": "ipython2",
   "version": "2.7.6"
  }
 },
 "nbformat": 4,
 "nbformat_minor": 0
}
